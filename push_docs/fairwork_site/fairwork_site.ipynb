{
 "cells": [
  {
   "cell_type": "code",
   "execution_count": 8,
   "metadata": {},
   "outputs": [],
   "source": [
    "import json\n",
    "import requests\n",
    "from bs4 import BeautifulSoup\n",
    "from langchain.document_loaders import UnstructuredHTMLLoader\n",
    "import xml.etree.ElementTree as ET\n",
    "import os\n",
    "\n",
    "manifest = []\n",
    "\n",
    "# Define function to fetch and parse each sitemap page\n",
    "def process_sitemap_page(sitemap_url):\n",
    "    # fetch the XML sitemap\n",
    "    response = requests.get(sitemap_url)\n",
    "\n",
    "    # parse the XML content\n",
    "    root = ET.fromstring(response.content)\n",
    "\n",
    "\n",
    "    # iterate over all URLs in the sitemap\n",
    "    for url in root.iter('{http://www.sitemaps.org/schemas/sitemap/0.9}loc'):\n",
    "        # fetch the HTML content\n",
    "        response = requests.get(url.text)\n",
    "\n",
    "        # convert the HTML content to a BeautifulSoup object\n",
    "        soup = BeautifulSoup(response.text, 'html.parser')\n",
    "\n",
    "        article_content = soup.find('article')\n",
    "\n",
    "        # save the HTML content to a local file\n",
    "        filename = 'html/' + url.text.replace('https://', '').replace('/', '_') + '.html'\n",
    "        \n",
    "        with open(filename, \"w\", encoding='utf-8') as f:\n",
    "            f.write(str(article_content.prettify()))\n",
    "\n",
    "        manifest.append({\"filename\": filename, \"url\": url.text})\n",
    "\n",
    "\n",
    "# Call the function for each sitemap page\n",
    "process_sitemap_page(\"https://www.fairwork.gov.au/sitemap.xml?page=1\")\n",
    "process_sitemap_page(\"https://www.fairwork.gov.au/sitemap.xml?page=2\")\n",
    "\n",
    "with open('manifest_dump.json', 'w') as f:\n",
    "    f.write(json.dumps(manifest))\n",
    "\n"
   ]
  }
 ],
 "metadata": {
  "kernelspec": {
   "display_name": "base",
   "language": "python",
   "name": "python3"
  },
  "language_info": {
   "codemirror_mode": {
    "name": "ipython",
    "version": 3
   },
   "file_extension": ".py",
   "mimetype": "text/x-python",
   "name": "python",
   "nbconvert_exporter": "python",
   "pygments_lexer": "ipython3",
   "version": "3.9.12"
  },
  "orig_nbformat": 4
 },
 "nbformat": 4,
 "nbformat_minor": 2
}
