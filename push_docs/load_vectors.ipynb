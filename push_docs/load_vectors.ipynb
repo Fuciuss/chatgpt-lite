{
 "cells": [
  {
   "cell_type": "code",
   "execution_count": 3,
   "metadata": {},
   "outputs": [],
   "source": [
    "import os\n",
    "from dotenv import load_dotenv\n",
    "\n",
    "\n",
    "load_dotenv()\n",
    "\n",
    "\n",
    "OPENAI_API_TYPE = os.getenv(\"OPENAI_API_TYPE\")\n",
    "OPENAI_API_KEY = os.getenv(\"OPENAI_API_KEY\")\n",
    "OPENAI_API_BASE = os.getenv(\"OPENAI_API_BASE\")\n",
    "VECTOR_STORE_ADDRESS = os.getenv(\"VECTOR_STORE_ADDRESS\")\n",
    "VECTOR_STORE_KEY = os.getenv(\"VECTOR_STORE_KEY\")\n",
    "INDEX_NAME = os.getenv(\"INDEX_NAME\")\n",
    "\n"
   ]
  },
  {
   "cell_type": "markdown",
   "metadata": {},
   "source": [
    "### Load Websites"
   ]
  },
  {
   "cell_type": "code",
   "execution_count": null,
   "metadata": {},
   "outputs": [],
   "source": [
    "import json\n",
    "import glob\n",
    "\n",
    "manifest = \"/Users/reespawson/Documents/Playground/llm_consulting/advancer/POC/fair_work_site/manifest_dump.json\"\n",
    "html_files = glob.glob(\"/fairwork_site/html/*.html\")\n",
    "\n",
    "with open(manifest, 'r') as f:\n",
    "    manifest = json.load(f)\n",
    "\n"
   ]
  },
  {
   "cell_type": "code",
   "execution_count": null,
   "metadata": {},
   "outputs": [],
   "source": [
    "from langchain.document_loaders import UnstructuredHTMLLoader\n",
    "from langchain.text_splitter import RecursiveCharacterTextSplitter\n",
    "\n",
    "\n",
    "text_splitter = RecursiveCharacterTextSplitter(\n",
    "    chunk_size = 1000,\n",
    "    chunk_overlap  = 100,\n",
    "    length_function = len,\n",
    ")\n",
    "\n",
    "\n",
    "def search_manifest_by_filename(filename):\n",
    "    print(filename)\n",
    "    for entry in manifest:\n",
    "        if entry['filename'] == filename:\n",
    "            return entry['url']\n",
    "\n",
    "    raise ValueError('No entry found for filename: {}'.format(filename))\n",
    "\n",
    "\n",
    "all_documents = []\n",
    "for filename in html_files:\n",
    "\n",
    "    # now you can use your UnstructuredHTMLLoader with the new HTML file\n",
    "    loader = UnstructuredHTMLLoader(filename)\n",
    "\n",
    "    # load the data\n",
    "    data = loader.load()\n",
    "    \n",
    "    # add metadata\n",
    "    site_url = search_manifest_by_filename('html/' + os.path.basename(filename))\n",
    "    data[0].metadata['site_url'] = site_url\n",
    "\n",
    "    # split text\n",
    "\n",
    "    all_documents.extend(data)\n",
    "    # print(f\"Loaded {len(texts)} documents from {filename}\")\n",
    "\n",
    "\n",
    "\n",
    "split_websites = text_splitter.split_documents(all_documents)\n"
   ]
  },
  {
   "cell_type": "code",
   "execution_count": null,
   "metadata": {},
   "outputs": [],
   "source": [
    "print(len(split_websites))"
   ]
  },
  {
   "cell_type": "code",
   "execution_count": null,
   "metadata": {},
   "outputs": [],
   "source": [
    "import os\n",
    "from langchain.embeddings.openai import OpenAIEmbeddings\n",
    "from langchain.vectorstores.azuresearch import AzureSearch\n",
    "\n",
    "\n",
    "\n",
    "model: str = \"text-embedding-ada-002\"\n",
    "embeddings: OpenAIEmbeddings = OpenAIEmbeddings(deployment=model, chunk_size=1)\n",
    "\n",
    "vector_store: AzureSearch = AzureSearch(\n",
    "    azure_search_endpoint=VECTOR_STORE_ADDRESS,\n",
    "    azure_search_key=VECTOR_STORE_KEY,\n",
    "    index_name=INDEX_NAME,\n",
    "    embedding_function=embeddings.embed_query\n",
    ")\n",
    "\n",
    "vector_store.add_documents(split_websites)"
   ]
  },
  {
   "cell_type": "markdown",
   "metadata": {},
   "source": [
    "### Load csvs"
   ]
  },
  {
   "cell_type": "code",
   "execution_count": 5,
   "metadata": {},
   "outputs": [],
   "source": [
    "import glob\n",
    "csv_files = glob.glob('docx/*.csv')"
   ]
  },
  {
   "cell_type": "code",
   "execution_count": null,
   "metadata": {},
   "outputs": [],
   "source": [
    "from langchain.schema.document import Document\n",
    "import csv\n",
    "\n",
    "text_splitter = RecursiveCharacterTextSplitter(\n",
    "    chunk_size = 1000,\n",
    "    chunk_overlap  = 100,\n",
    "    length_function = len,\n",
    ")\n",
    "\n",
    "\n",
    "all_csv_documents = []\n",
    "for csv_file in csv_files:\n",
    "\n",
    "    with open(csv_file, 'r') as infile:\n",
    "        reader = csv.DictReader(infile)\n",
    "        data = list(reader)\n",
    "\n",
    "    for row in data:\n",
    "        # print(row)  # Now 'row' is a dictionary with keys as column names\n",
    "        \n",
    "        doc = Document(\n",
    "            page_content=row['text'],\n",
    "            metadata={\"legislation\": row['legislation'], \"part\": row['part'], \"division\": row['division']}\n",
    "        )\n",
    "\n",
    "        all_csv_documents.append(doc)\n"
   ]
  },
  {
   "cell_type": "code",
   "execution_count": null,
   "metadata": {},
   "outputs": [],
   "source": [
    "split_docs = text_splitter.split_documents(all_csv_documents)"
   ]
  },
  {
   "cell_type": "code",
   "execution_count": null,
   "metadata": {},
   "outputs": [],
   "source": [
    "import os\n",
    "from langchain.embeddings.openai import OpenAIEmbeddings\n",
    "from langchain.vectorstores.azuresearch import AzureSearch\n",
    "\n",
    "\n",
    "model: str = \"text-embedding-ada-002\"\n",
    "embeddings: OpenAIEmbeddings = OpenAIEmbeddings(deployment=model, chunk_size=1)\n",
    "\n",
    "vector_store: AzureSearch = AzureSearch(\n",
    "    azure_search_endpoint=VECTOR_STORE_ADDRESS,\n",
    "    azure_search_key=VECTOR_STORE_KEY,\n",
    "    index_name=INDEX_NAME,\n",
    "    embedding_function=embeddings.embed_query\n",
    ")\n",
    "\n",
    "vector_store.add_documents(split_docs)"
   ]
  }
 ],
 "metadata": {
  "kernelspec": {
   "display_name": "base",
   "language": "python",
   "name": "python3"
  },
  "language_info": {
   "codemirror_mode": {
    "name": "ipython",
    "version": 3
   },
   "file_extension": ".py",
   "mimetype": "text/x-python",
   "name": "python",
   "nbconvert_exporter": "python",
   "pygments_lexer": "ipython3",
   "version": "3.9.12"
  },
  "orig_nbformat": 4
 },
 "nbformat": 4,
 "nbformat_minor": 2
}
