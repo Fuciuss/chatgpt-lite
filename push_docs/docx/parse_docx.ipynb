{
 "cells": [
  {
   "cell_type": "code",
   "execution_count": 2,
   "metadata": {},
   "outputs": [],
   "source": [
    "from docx import Document\n",
    "import os\n",
    "\n",
    "\n",
    "files = ['fw1.docx', 'fw2.docx', 'whsa.docx']\n"
   ]
  },
  {
   "cell_type": "code",
   "execution_count": 3,
   "metadata": {},
   "outputs": [],
   "source": [
    "from docx import Document\n",
    "\n",
    "def read_docx(file_path):\n",
    "\n",
    "    # lines = []\n",
    "\n",
    "    doc = Document(file_path)\n",
    "    result = {}\n",
    "    current_acthead2 = None\n",
    "\n",
    "    current_acthead3 = None\n",
    "    for para in doc.paragraphs:\n",
    "\n",
    "        if para.style.name == 'ActHead 2':\n",
    "            current_acthead2 = para.text.replace(\"\\xa0\", \" \").replace(\"—\", \" - \")\n",
    "\n",
    "        if para.style.name == 'ActHead 3':\n",
    "            current_acthead3 = para.text.replace(\"\\xa0\", \" \").replace(\"—\", \" - \")\n",
    "\n",
    "        if current_acthead3 and current_acthead2 is not None:\n",
    "\n",
    "            k = (current_acthead2, current_acthead3)\n",
    "            if k not in result.keys():\n",
    "                result[k] = ''\n",
    "            else:\n",
    "                result[k] += para.text\n",
    "\n",
    "    return result\n"
   ]
  },
  {
   "cell_type": "code",
   "execution_count": 7,
   "metadata": {},
   "outputs": [],
   "source": [
    "def write_to_csv(f):\n",
    "    import csv\n",
    "    import os\n",
    "\n",
    "    file_name = os.path.basename(f).split('.')[0]\n",
    "\n",
    "    # define the fieldnames for your csv file\n",
    "    fieldnames = ['part', 'division', 'text']\n",
    "\n",
    "    csv_file = open(f\"{file_name}.csv\", 'w', newline='')\n",
    "\n",
    "    # use the DictWriter class instead of the writer class\n",
    "    writer = csv.DictWriter(csv_file, fieldnames=fieldnames)\n",
    "\n",
    "    # write the header first\n",
    "    writer.writeheader()\n",
    "\n",
    "    for item in result.items():\n",
    "        obj = {\n",
    "            'part': item[0][0],\n",
    "            'division': item[0][1],\n",
    "            'text': item[1]\n",
    "        }\n",
    "\n",
    "        # write each dictionary row\n",
    "        writer.writerow(obj)\n",
    "\n",
    "    csv_file.close()\n"
   ]
  },
  {
   "cell_type": "code",
   "execution_count": 8,
   "metadata": {},
   "outputs": [],
   "source": [
    "for f in files:\n",
    "    result = read_docx(f)\n",
    "    write_to_csv(f)\n",
    "    "
   ]
  },
  {
   "cell_type": "code",
   "execution_count": 10,
   "metadata": {},
   "outputs": [],
   "source": [
    "import csv\n",
    "import re\n",
    "\n",
    "\n",
    "update_files = ['fw1.csv', 'fw2.csv']\n",
    "for f in update_files:\n",
    "    # Reading from the source CSV file\n",
    "    with open(f'{f}', 'r') as infile:\n",
    "        reader = csv.reader(infile)\n",
    "        data = list(reader)\n",
    "\n",
    "    # Updating the first cell of each row\n",
    "    for row in data:\n",
    "        row[0] = re.sub(r\"(\\d)(\\d)\", r\"\\1-\\2\", row[0])\n",
    "\n",
    "    new_name = os.path.basename(f).split('.')[0]\n",
    "    # Writing to the target CSV file\n",
    "    new_file = f'{new_name}_updated.csv' \n",
    "    with open(new_file, 'w', newline='') as outfile:\n",
    "        writer = csv.writer(outfile)\n",
    "        writer.writerows(data)\n",
    "        )"
   ]
  },
  {
   "cell_type": "code",
   "execution_count": 11,
   "metadata": {},
   "outputs": [],
   "source": [
    "update_detail_files = ['fw1_updated.csv', 'fw2_updated.csv', 'whsa.csv']\n",
    "data_to_update = ['Fair Work Act 2009 Volume 1', 'Fair Work Act 2009 Volume 2', 'Work Health and Safety Act 2011']"
   ]
  },
  {
   "cell_type": "code",
   "execution_count": 12,
   "metadata": {},
   "outputs": [],
   "source": [
    "import os\n",
    "import csv\n",
    "for f, legislation in zip(update_detail_files, data_to_update):\n",
    "\n",
    "    with open(f'{f}', 'r') as infile:\n",
    "        reader = csv.reader(infile)\n",
    "        data = list(reader)\n",
    "\n",
    "\n",
    "    data[0].insert(0, 'legislation')\n",
    "\n",
    "\n",
    "    # Updating the first cell of each row\n",
    "    # Adding the legislation data at the start of each row except the header\n",
    "    for i in range(1, len(data)):\n",
    "        data[i].insert(0, legislation)\n",
    "\n",
    "    new_name = os.path.basename(f).split('.')[0]\n",
    "    # Writing to the target CSV file\n",
    "    with open(f'{new_name}_final.csv', 'w', newline='') as outfile:\n",
    "        writer = csv.writer(outfile)\n",
    "        writer.writerows(data)\n"
   ]
  },
  {
   "cell_type": "code",
   "execution_count": 19,
   "metadata": {},
   "outputs": [
    {
     "data": {
      "text/plain": [
       "[None, None, None, None, None]"
      ]
     },
     "execution_count": 19,
     "metadata": {},
     "output_type": "execute_result"
    }
   ],
   "source": [
    "import glob\n",
    "\n",
    "[os.remove(x) for x in glob.glob('*') if '.csv' in x and  not'final' in x]"
   ]
  },
  {
   "cell_type": "code",
   "execution_count": null,
   "metadata": {},
   "outputs": [],
   "source": []
  }
 ],
 "metadata": {
  "kernelspec": {
   "display_name": "base",
   "language": "python",
   "name": "python3"
  },
  "language_info": {
   "codemirror_mode": {
    "name": "ipython",
    "version": 3
   },
   "file_extension": ".py",
   "mimetype": "text/x-python",
   "name": "python",
   "nbconvert_exporter": "python",
   "pygments_lexer": "ipython3",
   "version": "3.9.12"
  },
  "orig_nbformat": 4
 },
 "nbformat": 4,
 "nbformat_minor": 2
}
